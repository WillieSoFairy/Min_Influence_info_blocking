{
 "cells": [
  {
   "cell_type": "markdown",
   "metadata": {},
   "source": [
    "# 社交网络中的影响力最小化\n",
    "\n",
    "---\n",
    "\n",
    "## 实验目标\n",
    "\n",
    "本实验旨在利用Gephi软件对Facebook社交网络图进行可视化，并研究种子顶点在社交网络中的传播效果以及阻塞对传播的影响。\n",
    "\n",
    "## 实验准备\n",
    "\n",
    "**准备实验数据：**\n",
    "\n",
    "* Facebook社交网络图数据 `facebook_in.txt`\n",
    "* 种子顶点数据 `ICSeed=facebook_in.txt`\n",
    "\n",
    "## 实验要求\n",
    "\n",
    "### 一、数据准备\n",
    "\n",
    "1. 修改实验代码（前几次实验的代码），使其能够读取`ICSeed=facebook_in.txt`中的种子，并导出每个顶点被种子顶点影响的概率以及阻塞后每个顶点被种子顶点影响的概率。\n",
    "2. 将所有数据转换为CSV格式文件。\n",
    "\n",
    "### 二、可视化过程\n",
    "\n",
    "1. 利用Gephi软件可视化Facebook图结构。\n",
    "2. 根据给定的种子顶点数据展示种子顶点在社交网络中的传播结果。\n",
    "3. 展示阻塞顶点阻塞后种子顶点传播的结果。\n",
    "4. 调整节点大小、颜色等属性，以突出显示不同的顶点受种子顶点影响的概率。\n",
    "\n",
    "### 三、结果分析与总结\n",
    "\n",
    "1. 分析可视化结果，观察种子顶点在社交网络中的传播效果以及阻塞对传播的影响。\n",
    "2. 总结实验结果，提出可能的改进和进一步研究方向。\n",
    "\n",
    "## 实验详情（使用python实现）"
   ]
  },
  {
   "cell_type": "markdown",
   "metadata": {},
   "source": [
    "### 1. 导入相关的库"
   ]
  },
  {
   "cell_type": "code",
   "execution_count": 46,
   "metadata": {},
   "outputs": [],
   "source": [
    "import pandas as pd\n",
    "from re import match\n",
    "from queue import Queue\n",
    "from copy import deepcopy\n",
    "from random import randint"
   ]
  },
  {
   "cell_type": "markdown",
   "metadata": {},
   "source": [
    "### 2. 定义边的数据结构，并初始化模拟次数`T`"
   ]
  },
  {
   "cell_type": "code",
   "execution_count": 3,
   "metadata": {},
   "outputs": [],
   "source": [
    "class Edge:\n",
    "    def __init__(self, to, prob):\n",
    "        self.to = to  # 与该点相邻的点\n",
    "        self.prob = prob  # 与该相邻点的传播概率\n",
    "\n",
    "\n",
    "T = 100"
   ]
  },
  {
   "cell_type": "markdown",
   "metadata": {},
   "source": [
    "### 3. 从文件中读入图和种子节点"
   ]
  },
  {
   "cell_type": "markdown",
   "metadata": {},
   "source": [
    "#### 函数实现：读图和种子（正则表达式匹配文本）"
   ]
  },
  {
   "cell_type": "code",
   "execution_count": 4,
   "metadata": {},
   "outputs": [],
   "source": [
    "def load_graph(fileName):  # 文件名入参，返回邻接表、节点个数和边个数\n",
    "    with open(fileName, \"r\") as f:\n",
    "        str_list = f.readlines()\n",
    "\n",
    "    # 读入第一行，获取节点和边的个数\n",
    "    info = match(r\"([0-9].*) ([0-9].*)\\n\", str_list[0])\n",
    "    node_count = int(info.group(1))\n",
    "    edge_count = int(info.group(2))\n",
    "\n",
    "    # 读入图主体\n",
    "    graph = [[] for i in range(node_count)]\n",
    "    for x in str_list[1:]:\n",
    "        match_str = match(r\"([0-9].*) ([0-9].*) ([0-9].*)\\n\", x)\n",
    "        start_p = int(match_str.group(1))\n",
    "        dest_p = int(match_str.group(2))\n",
    "        prob = float(match_str.group(3))\n",
    "        graph[start_p].append(Edge(dest_p, prob))\n",
    "    return (graph, node_count, edge_count)\n",
    "\n",
    "\n",
    "def load_seeds(fileName):\n",
    "    with open(fileName, \"r\") as f:\n",
    "        str_list = f.readlines()\n",
    "    return list(map(lambda x: int(match(r\"([0-9]*)\\n\", x).group(1)), str_list))"
   ]
  },
  {
   "cell_type": "markdown",
   "metadata": {},
   "source": [
    "#### 读取图和种子"
   ]
  },
  {
   "cell_type": "code",
   "execution_count": 5,
   "metadata": {},
   "outputs": [],
   "source": [
    "graph_fileName = r\"facebook_in.txt\"\n",
    "seeds_fileName = r\"ICSeed=facebook_in.txt\"\n",
    "graph, node_count, edge_count = load_graph(graph_fileName)\n",
    "seeds = load_seeds(seeds_fileName)"
   ]
  },
  {
   "cell_type": "markdown",
   "metadata": {},
   "source": [
    "### 4. 计算未被阻塞前，每个点的激活概率"
   ]
  },
  {
   "cell_type": "markdown",
   "metadata": {},
   "source": [
    "#### 函数实现：概率检查和计算激活概率"
   ]
  },
  {
   "cell_type": "code",
   "execution_count": 6,
   "metadata": {},
   "outputs": [],
   "source": [
    "def check(x):  # 传入概率的倒数取整，并生成1到该数的随机整数，则=1的概率即为该传播概率\n",
    "    rand_num = randint(1, x)\n",
    "    if rand_num == 1:\n",
    "        return True\n",
    "    return False"
   ]
  },
  {
   "cell_type": "code",
   "execution_count": 7,
   "metadata": {},
   "outputs": [],
   "source": [
    "def calc_node_prob(graph, node_count, seeds, T):  # 计算每个点的激活概率\n",
    "    activation_counts = [0 for i in range(node_count)]\n",
    "    for i in range(T):\n",
    "        actived_nodes = set(seeds)  # 初始化激活节点集合，包括种子节点\n",
    "        # 迭代直到没有新的节点被激活\n",
    "        while actived_nodes:\n",
    "            new_activations = set()\n",
    "            for node in list(actived_nodes):\n",
    "                for neighbor in graph[node]:  # 遍历当前激活节点的邻居\n",
    "                    # 如果邻居未被激活且存在对应的传播概率\n",
    "                    if neighbor.to not in actived_nodes:\n",
    "                        z = neighbor.prob\n",
    "                        # 根据传播概率决定是否激活邻居\n",
    "                        if (z != 0) and (check(int(1.0 / z))):\n",
    "                            new_activations.add(neighbor.to)\n",
    "                            activation_counts[neighbor.to] += 1\n",
    "            actived_nodes = new_activations  # 更新激活节点集合\n",
    "    activation_counts = map(lambda x: T if x >= T else x, activation_counts)\n",
    "    activation_prob = [count / T for count in activation_counts]\n",
    "    for seed in seeds:\n",
    "        activation_prob[seed] = 1.0\n",
    "    return activation_prob"
   ]
  },
  {
   "cell_type": "markdown",
   "metadata": {},
   "source": [
    "#### 函数实现：生成适用于Gephi导入的节点表和边表"
   ]
  },
  {
   "cell_type": "code",
   "execution_count": 8,
   "metadata": {},
   "outputs": [],
   "source": [
    "def create_node_dataframe(node_count, seeds, activation):  # 生成节点表，包括id、点编号、是否种子顶点、激活概率\n",
    "    node_idx = [i for i in range(node_count)]\n",
    "    node_type = [\"b\" for i in range(node_count)]\n",
    "    for seed in seeds:\n",
    "        node_type[seed] = \"a\"\n",
    "    nodes = pd.DataFrame(\n",
    "        {\n",
    "            \"id\": node_idx,\n",
    "            \"label\": node_idx,\n",
    "            \"category\": node_type,\n",
    "            \"PageRank\": activation,\n",
    "        }\n",
    "    )\n",
    "    nodes.loc[0, \"label\"] = node_count\n",
    "    return nodes\n",
    "\n",
    "\n",
    "def create_edge_dataframe(graph):  # 生成边表，包括当前节点、相邻节点和边的传播概率\n",
    "    start_idx = []\n",
    "    end_idx = []\n",
    "    prob = []\n",
    "    for idx, start in enumerate(graph):\n",
    "        for dest in start:\n",
    "            start_idx.append(idx)\n",
    "            end_idx.append(dest.to)\n",
    "            prob.append(dest.prob)\n",
    "    edges = pd.DataFrame({\"source\": start_idx, \"target\": end_idx, \"weight\": prob})\n",
    "    edges[\"type\"] = \"directed\"\n",
    "    return edges"
   ]
  },
  {
   "cell_type": "code",
   "execution_count": 9,
   "metadata": {},
   "outputs": [],
   "source": [
    "begin_activation = calc_node_prob(graph, node_count, seeds, T)\n",
    "begin_nodes = create_node_dataframe(node_count, seeds, begin_activation)\n",
    "begin_edges = create_edge_dataframe(graph)"
   ]
  },
  {
   "cell_type": "markdown",
   "metadata": {},
   "source": [
    "#### 初始的节点和边"
   ]
  },
  {
   "cell_type": "markdown",
   "metadata": {},
   "source": [
    "* 节点"
   ]
  },
  {
   "cell_type": "code",
   "execution_count": 10,
   "metadata": {},
   "outputs": [
    {
     "data": {
      "text/html": [
       "<div>\n",
       "<style scoped>\n",
       "    .dataframe tbody tr th:only-of-type {\n",
       "        vertical-align: middle;\n",
       "    }\n",
       "\n",
       "    .dataframe tbody tr th {\n",
       "        vertical-align: top;\n",
       "    }\n",
       "\n",
       "    .dataframe thead th {\n",
       "        text-align: right;\n",
       "    }\n",
       "</style>\n",
       "<table border=\"1\" class=\"dataframe\">\n",
       "  <thead>\n",
       "    <tr style=\"text-align: right;\">\n",
       "      <th></th>\n",
       "      <th>id</th>\n",
       "      <th>label</th>\n",
       "      <th>category</th>\n",
       "      <th>PageRank</th>\n",
       "    </tr>\n",
       "  </thead>\n",
       "  <tbody>\n",
       "    <tr>\n",
       "      <th>0</th>\n",
       "      <td>0</td>\n",
       "      <td>4039</td>\n",
       "      <td>a</td>\n",
       "      <td>1.0</td>\n",
       "    </tr>\n",
       "    <tr>\n",
       "      <th>1</th>\n",
       "      <td>1</td>\n",
       "      <td>1</td>\n",
       "      <td>b</td>\n",
       "      <td>1.0</td>\n",
       "    </tr>\n",
       "    <tr>\n",
       "      <th>2</th>\n",
       "      <td>2</td>\n",
       "      <td>2</td>\n",
       "      <td>b</td>\n",
       "      <td>1.0</td>\n",
       "    </tr>\n",
       "    <tr>\n",
       "      <th>3</th>\n",
       "      <td>3</td>\n",
       "      <td>3</td>\n",
       "      <td>b</td>\n",
       "      <td>1.0</td>\n",
       "    </tr>\n",
       "    <tr>\n",
       "      <th>4</th>\n",
       "      <td>4</td>\n",
       "      <td>4</td>\n",
       "      <td>b</td>\n",
       "      <td>1.0</td>\n",
       "    </tr>\n",
       "    <tr>\n",
       "      <th>...</th>\n",
       "      <td>...</td>\n",
       "      <td>...</td>\n",
       "      <td>...</td>\n",
       "      <td>...</td>\n",
       "    </tr>\n",
       "    <tr>\n",
       "      <th>4034</th>\n",
       "      <td>4034</td>\n",
       "      <td>4034</td>\n",
       "      <td>b</td>\n",
       "      <td>1.0</td>\n",
       "    </tr>\n",
       "    <tr>\n",
       "      <th>4035</th>\n",
       "      <td>4035</td>\n",
       "      <td>4035</td>\n",
       "      <td>b</td>\n",
       "      <td>1.0</td>\n",
       "    </tr>\n",
       "    <tr>\n",
       "      <th>4036</th>\n",
       "      <td>4036</td>\n",
       "      <td>4036</td>\n",
       "      <td>b</td>\n",
       "      <td>1.0</td>\n",
       "    </tr>\n",
       "    <tr>\n",
       "      <th>4037</th>\n",
       "      <td>4037</td>\n",
       "      <td>4037</td>\n",
       "      <td>b</td>\n",
       "      <td>1.0</td>\n",
       "    </tr>\n",
       "    <tr>\n",
       "      <th>4038</th>\n",
       "      <td>4038</td>\n",
       "      <td>4038</td>\n",
       "      <td>b</td>\n",
       "      <td>0.9</td>\n",
       "    </tr>\n",
       "  </tbody>\n",
       "</table>\n",
       "<p>4039 rows × 4 columns</p>\n",
       "</div>"
      ],
      "text/plain": [
       "        id  label category  PageRank\n",
       "0        0   4039        a       1.0\n",
       "1        1      1        b       1.0\n",
       "2        2      2        b       1.0\n",
       "3        3      3        b       1.0\n",
       "4        4      4        b       1.0\n",
       "...    ...    ...      ...       ...\n",
       "4034  4034   4034        b       1.0\n",
       "4035  4035   4035        b       1.0\n",
       "4036  4036   4036        b       1.0\n",
       "4037  4037   4037        b       1.0\n",
       "4038  4038   4038        b       0.9\n",
       "\n",
       "[4039 rows x 4 columns]"
      ]
     },
     "execution_count": 10,
     "metadata": {},
     "output_type": "execute_result"
    }
   ],
   "source": [
    "begin_nodes"
   ]
  },
  {
   "cell_type": "markdown",
   "metadata": {},
   "source": [
    "* 边"
   ]
  },
  {
   "cell_type": "code",
   "execution_count": 11,
   "metadata": {},
   "outputs": [
    {
     "data": {
      "text/html": [
       "<div>\n",
       "<style scoped>\n",
       "    .dataframe tbody tr th:only-of-type {\n",
       "        vertical-align: middle;\n",
       "    }\n",
       "\n",
       "    .dataframe tbody tr th {\n",
       "        vertical-align: top;\n",
       "    }\n",
       "\n",
       "    .dataframe thead th {\n",
       "        text-align: right;\n",
       "    }\n",
       "</style>\n",
       "<table border=\"1\" class=\"dataframe\">\n",
       "  <thead>\n",
       "    <tr style=\"text-align: right;\">\n",
       "      <th></th>\n",
       "      <th>source</th>\n",
       "      <th>target</th>\n",
       "      <th>weight</th>\n",
       "      <th>type</th>\n",
       "    </tr>\n",
       "  </thead>\n",
       "  <tbody>\n",
       "    <tr>\n",
       "      <th>0</th>\n",
       "      <td>0</td>\n",
       "      <td>1</td>\n",
       "      <td>1.0000</td>\n",
       "      <td>directed</td>\n",
       "    </tr>\n",
       "    <tr>\n",
       "      <th>1</th>\n",
       "      <td>0</td>\n",
       "      <td>2</td>\n",
       "      <td>1.0000</td>\n",
       "      <td>directed</td>\n",
       "    </tr>\n",
       "    <tr>\n",
       "      <th>2</th>\n",
       "      <td>0</td>\n",
       "      <td>3</td>\n",
       "      <td>1.0000</td>\n",
       "      <td>directed</td>\n",
       "    </tr>\n",
       "    <tr>\n",
       "      <th>3</th>\n",
       "      <td>0</td>\n",
       "      <td>4</td>\n",
       "      <td>1.0000</td>\n",
       "      <td>directed</td>\n",
       "    </tr>\n",
       "    <tr>\n",
       "      <th>4</th>\n",
       "      <td>0</td>\n",
       "      <td>5</td>\n",
       "      <td>1.0000</td>\n",
       "      <td>directed</td>\n",
       "    </tr>\n",
       "    <tr>\n",
       "      <th>...</th>\n",
       "      <td>...</td>\n",
       "      <td>...</td>\n",
       "      <td>...</td>\n",
       "      <td>...</td>\n",
       "    </tr>\n",
       "    <tr>\n",
       "      <th>88229</th>\n",
       "      <td>4024</td>\n",
       "      <td>4038</td>\n",
       "      <td>0.1111</td>\n",
       "      <td>directed</td>\n",
       "    </tr>\n",
       "    <tr>\n",
       "      <th>88230</th>\n",
       "      <td>4027</td>\n",
       "      <td>4031</td>\n",
       "      <td>0.0526</td>\n",
       "      <td>directed</td>\n",
       "    </tr>\n",
       "    <tr>\n",
       "      <th>88231</th>\n",
       "      <td>4028</td>\n",
       "      <td>1830</td>\n",
       "      <td>0.1000</td>\n",
       "      <td>directed</td>\n",
       "    </tr>\n",
       "    <tr>\n",
       "      <th>88232</th>\n",
       "      <td>4028</td>\n",
       "      <td>4032</td>\n",
       "      <td>0.5000</td>\n",
       "      <td>directed</td>\n",
       "    </tr>\n",
       "    <tr>\n",
       "      <th>88233</th>\n",
       "      <td>4028</td>\n",
       "      <td>4038</td>\n",
       "      <td>0.1111</td>\n",
       "      <td>directed</td>\n",
       "    </tr>\n",
       "  </tbody>\n",
       "</table>\n",
       "<p>88234 rows × 4 columns</p>\n",
       "</div>"
      ],
      "text/plain": [
       "       source  target  weight      type\n",
       "0           0       1  1.0000  directed\n",
       "1           0       2  1.0000  directed\n",
       "2           0       3  1.0000  directed\n",
       "3           0       4  1.0000  directed\n",
       "4           0       5  1.0000  directed\n",
       "...       ...     ...     ...       ...\n",
       "88229    4024    4038  0.1111  directed\n",
       "88230    4027    4031  0.0526  directed\n",
       "88231    4028    1830  0.1000  directed\n",
       "88232    4028    4032  0.5000  directed\n",
       "88233    4028    4038  0.1111  directed\n",
       "\n",
       "[88234 rows x 4 columns]"
      ]
     },
     "execution_count": 11,
     "metadata": {},
     "output_type": "execute_result"
    }
   ],
   "source": [
    "begin_edges"
   ]
  },
  {
   "cell_type": "markdown",
   "metadata": {},
   "source": [
    "### 5. 计算被阻塞前传播期望"
   ]
  },
  {
   "cell_type": "markdown",
   "metadata": {},
   "source": [
    "#### 函数实现：计算传播期望"
   ]
  },
  {
   "cell_type": "code",
   "execution_count": 12,
   "metadata": {},
   "outputs": [],
   "source": [
    "def calc_exp(graph: list[list[Edge]], seeds: list, node_count, T, block_nodes=[]):\n",
    "    visit = [0 for i in range(node_count)]\n",
    "    gain = 0\n",
    "    for i in range(1, T + 1):\n",
    "        gain_i = 1\n",
    "        e_sample = [[] for j in range(node_count)]\n",
    "\n",
    "        for j in range(node_count):\n",
    "            for dest_n in graph[j]:\n",
    "                x = j\n",
    "                y = dest_n.to\n",
    "                z = dest_n.prob\n",
    "                if (z != 0) and check(int(1.0 / z)):\n",
    "                    e_sample[x].append(y) \n",
    "        Q = Queue()\n",
    "        for seed in seeds:\n",
    "            Q.put(seed)\n",
    "            visit[seed] = i\n",
    "        for remove in block_nodes:\n",
    "            visit[remove] = i\n",
    "        while not Q.empty():\n",
    "            x = Q.get()\n",
    "            for y in e_sample[x]:\n",
    "                if visit[y] != i:\n",
    "                    Q.put(y)\n",
    "                    visit[y] = i\n",
    "                    gain_i = gain_i + 1\n",
    "        gain = gain + gain_i\n",
    "    if gain:\n",
    "        return gain / T\n",
    "    else:\n",
    "        return 0"
   ]
  },
  {
   "cell_type": "markdown",
   "metadata": {},
   "source": [
    "#### 被阻塞前的传播期望"
   ]
  },
  {
   "cell_type": "code",
   "execution_count": 24,
   "metadata": {},
   "outputs": [
    {
     "data": {
      "text/plain": [
       "2207.36"
      ]
     },
     "execution_count": 24,
     "metadata": {},
     "output_type": "execute_result"
    }
   ],
   "source": [
    "begin_exp = calc_exp(graph, seeds, node_count, T)\n",
    "begin_exp"
   ]
  },
  {
   "cell_type": "markdown",
   "metadata": {},
   "source": [
    "### 6. 根据预算计算被阻塞的点，以及其传播期望和各点的激活概率"
   ]
  },
  {
   "cell_type": "markdown",
   "metadata": {},
   "source": [
    "#### 函数实现：按照预算找出使传播最小化的阻塞点"
   ]
  },
  {
   "cell_type": "code",
   "execution_count": 14,
   "metadata": {},
   "outputs": [],
   "source": [
    "def seek_remove_nodes(graph, seeds, node_count, budget):\n",
    "    remove_nodes = []\n",
    "    remove_flag = [0 for i in range(node_count)]\n",
    "    for seed in seeds:\n",
    "        remove_flag[seed] = 1\n",
    "    for i in range(budget):\n",
    "        Min = float(node_count)\n",
    "        for j in range(node_count):\n",
    "            if remove_flag[j] == 0:\n",
    "                remove_nodes.append(j)\n",
    "                res = calc_exp(graph, seeds, node_count, int(T / 100), remove_nodes)\n",
    "                if res < Min:\n",
    "                    Min = res\n",
    "                    remove_node = j\n",
    "                remove_nodes.pop()\n",
    "                remove_flag[i] = 0\n",
    "        remove_flag[remove_node] = 1\n",
    "        remove_nodes.append(remove_node)\n",
    "    return remove_nodes"
   ]
  },
  {
   "cell_type": "markdown",
   "metadata": {},
   "source": [
    "#### 函数实现：阻塞图中的点"
   ]
  },
  {
   "cell_type": "code",
   "execution_count": 15,
   "metadata": {},
   "outputs": [],
   "source": [
    "def block_node(graph: list[list[Edge]], nodes):\n",
    "    G = deepcopy(graph)\n",
    "    for node in nodes:\n",
    "        for i in G[node]:\n",
    "            i.prob = 0\n",
    "    return G"
   ]
  },
  {
   "cell_type": "markdown",
   "metadata": {},
   "source": [
    "#### 计算阻塞点"
   ]
  },
  {
   "cell_type": "code",
   "execution_count": 16,
   "metadata": {},
   "outputs": [
    {
     "data": {
      "text/plain": [
       "[3504,\n",
       " 644,\n",
       " 2315,\n",
       " 3439,\n",
       " 1984,\n",
       " 401,\n",
       " 1057,\n",
       " 3218,\n",
       " 1745,\n",
       " 582,\n",
       " 423,\n",
       " 1418,\n",
       " 1962,\n",
       " 1393,\n",
       " 2373,\n",
       " 1087,\n",
       " 1372,\n",
       " 188,\n",
       " 302,\n",
       " 2117,\n",
       " 1013,\n",
       " 1325,\n",
       " 682,\n",
       " 795,\n",
       " 2585,\n",
       " 2269,\n",
       " 1255,\n",
       " 402,\n",
       " 3416,\n",
       " 3651,\n",
       " 950,\n",
       " 619,\n",
       " 3542,\n",
       " 651,\n",
       " 1236,\n",
       " 3532,\n",
       " 1193,\n",
       " 1741,\n",
       " 3283,\n",
       " 1361,\n",
       " 641,\n",
       " 53,\n",
       " 1869,\n",
       " 32,\n",
       " 706,\n",
       " 2287,\n",
       " 1353,\n",
       " 2121,\n",
       " 2010,\n",
       " 1948]"
      ]
     },
     "execution_count": 16,
     "metadata": {},
     "output_type": "execute_result"
    }
   ],
   "source": [
    "budget = 50\n",
    "block = seek_remove_nodes(graph, seeds, node_count, budget)\n",
    "block"
   ]
  },
  {
   "cell_type": "markdown",
   "metadata": {},
   "source": [
    "#### 阻塞上述点，并计算传播期望和各点的激活概率"
   ]
  },
  {
   "cell_type": "code",
   "execution_count": 33,
   "metadata": {},
   "outputs": [],
   "source": [
    "G = block_node(graph, block)\n",
    "after_activation = calc_node_prob(G, node_count, seeds, T)\n",
    "after_nodes = create_node_dataframe(node_count, seeds, begin_activation)\n",
    "after_edges = create_edge_dataframe(G)"
   ]
  },
  {
   "cell_type": "markdown",
   "metadata": {},
   "source": [
    "##### 被阻塞后的传播期望"
   ]
  },
  {
   "cell_type": "code",
   "execution_count": 45,
   "metadata": {},
   "outputs": [
    {
     "data": {
      "text/plain": [
       "2137.97"
      ]
     },
     "execution_count": 45,
     "metadata": {},
     "output_type": "execute_result"
    }
   ],
   "source": [
    "after_exp = calc_exp(graph, seeds, node_count, T, block)\n",
    "after_exp"
   ]
  },
  {
   "cell_type": "markdown",
   "metadata": {},
   "source": [
    "##### 被阻塞后的节点和边"
   ]
  },
  {
   "cell_type": "markdown",
   "metadata": {},
   "source": [
    "* 节点"
   ]
  },
  {
   "cell_type": "code",
   "execution_count": 41,
   "metadata": {},
   "outputs": [
    {
     "data": {
      "text/html": [
       "<div>\n",
       "<style scoped>\n",
       "    .dataframe tbody tr th:only-of-type {\n",
       "        vertical-align: middle;\n",
       "    }\n",
       "\n",
       "    .dataframe tbody tr th {\n",
       "        vertical-align: top;\n",
       "    }\n",
       "\n",
       "    .dataframe thead th {\n",
       "        text-align: right;\n",
       "    }\n",
       "</style>\n",
       "<table border=\"1\" class=\"dataframe\">\n",
       "  <thead>\n",
       "    <tr style=\"text-align: right;\">\n",
       "      <th></th>\n",
       "      <th>id</th>\n",
       "      <th>label</th>\n",
       "      <th>category</th>\n",
       "      <th>PageRank</th>\n",
       "    </tr>\n",
       "  </thead>\n",
       "  <tbody>\n",
       "    <tr>\n",
       "      <th>0</th>\n",
       "      <td>0</td>\n",
       "      <td>4039</td>\n",
       "      <td>a</td>\n",
       "      <td>1.0</td>\n",
       "    </tr>\n",
       "    <tr>\n",
       "      <th>1</th>\n",
       "      <td>1</td>\n",
       "      <td>1</td>\n",
       "      <td>b</td>\n",
       "      <td>1.0</td>\n",
       "    </tr>\n",
       "    <tr>\n",
       "      <th>2</th>\n",
       "      <td>2</td>\n",
       "      <td>2</td>\n",
       "      <td>b</td>\n",
       "      <td>1.0</td>\n",
       "    </tr>\n",
       "    <tr>\n",
       "      <th>3</th>\n",
       "      <td>3</td>\n",
       "      <td>3</td>\n",
       "      <td>b</td>\n",
       "      <td>1.0</td>\n",
       "    </tr>\n",
       "    <tr>\n",
       "      <th>4</th>\n",
       "      <td>4</td>\n",
       "      <td>4</td>\n",
       "      <td>b</td>\n",
       "      <td>1.0</td>\n",
       "    </tr>\n",
       "    <tr>\n",
       "      <th>...</th>\n",
       "      <td>...</td>\n",
       "      <td>...</td>\n",
       "      <td>...</td>\n",
       "      <td>...</td>\n",
       "    </tr>\n",
       "    <tr>\n",
       "      <th>4034</th>\n",
       "      <td>4034</td>\n",
       "      <td>4034</td>\n",
       "      <td>b</td>\n",
       "      <td>1.0</td>\n",
       "    </tr>\n",
       "    <tr>\n",
       "      <th>4035</th>\n",
       "      <td>4035</td>\n",
       "      <td>4035</td>\n",
       "      <td>b</td>\n",
       "      <td>1.0</td>\n",
       "    </tr>\n",
       "    <tr>\n",
       "      <th>4036</th>\n",
       "      <td>4036</td>\n",
       "      <td>4036</td>\n",
       "      <td>b</td>\n",
       "      <td>1.0</td>\n",
       "    </tr>\n",
       "    <tr>\n",
       "      <th>4037</th>\n",
       "      <td>4037</td>\n",
       "      <td>4037</td>\n",
       "      <td>b</td>\n",
       "      <td>1.0</td>\n",
       "    </tr>\n",
       "    <tr>\n",
       "      <th>4038</th>\n",
       "      <td>4038</td>\n",
       "      <td>4038</td>\n",
       "      <td>b</td>\n",
       "      <td>0.9</td>\n",
       "    </tr>\n",
       "  </tbody>\n",
       "</table>\n",
       "<p>4039 rows × 4 columns</p>\n",
       "</div>"
      ],
      "text/plain": [
       "        id  label category  PageRank\n",
       "0        0   4039        a       1.0\n",
       "1        1      1        b       1.0\n",
       "2        2      2        b       1.0\n",
       "3        3      3        b       1.0\n",
       "4        4      4        b       1.0\n",
       "...    ...    ...      ...       ...\n",
       "4034  4034   4034        b       1.0\n",
       "4035  4035   4035        b       1.0\n",
       "4036  4036   4036        b       1.0\n",
       "4037  4037   4037        b       1.0\n",
       "4038  4038   4038        b       0.9\n",
       "\n",
       "[4039 rows x 4 columns]"
      ]
     },
     "execution_count": 41,
     "metadata": {},
     "output_type": "execute_result"
    }
   ],
   "source": [
    "after_nodes"
   ]
  },
  {
   "cell_type": "markdown",
   "metadata": {},
   "source": [
    "* 边"
   ]
  },
  {
   "cell_type": "code",
   "execution_count": 42,
   "metadata": {},
   "outputs": [
    {
     "data": {
      "text/html": [
       "<div>\n",
       "<style scoped>\n",
       "    .dataframe tbody tr th:only-of-type {\n",
       "        vertical-align: middle;\n",
       "    }\n",
       "\n",
       "    .dataframe tbody tr th {\n",
       "        vertical-align: top;\n",
       "    }\n",
       "\n",
       "    .dataframe thead th {\n",
       "        text-align: right;\n",
       "    }\n",
       "</style>\n",
       "<table border=\"1\" class=\"dataframe\">\n",
       "  <thead>\n",
       "    <tr style=\"text-align: right;\">\n",
       "      <th></th>\n",
       "      <th>source</th>\n",
       "      <th>target</th>\n",
       "      <th>weight</th>\n",
       "      <th>type</th>\n",
       "    </tr>\n",
       "  </thead>\n",
       "  <tbody>\n",
       "    <tr>\n",
       "      <th>0</th>\n",
       "      <td>0</td>\n",
       "      <td>1</td>\n",
       "      <td>1.0000</td>\n",
       "      <td>directed</td>\n",
       "    </tr>\n",
       "    <tr>\n",
       "      <th>1</th>\n",
       "      <td>0</td>\n",
       "      <td>2</td>\n",
       "      <td>1.0000</td>\n",
       "      <td>directed</td>\n",
       "    </tr>\n",
       "    <tr>\n",
       "      <th>2</th>\n",
       "      <td>0</td>\n",
       "      <td>3</td>\n",
       "      <td>1.0000</td>\n",
       "      <td>directed</td>\n",
       "    </tr>\n",
       "    <tr>\n",
       "      <th>3</th>\n",
       "      <td>0</td>\n",
       "      <td>4</td>\n",
       "      <td>1.0000</td>\n",
       "      <td>directed</td>\n",
       "    </tr>\n",
       "    <tr>\n",
       "      <th>4</th>\n",
       "      <td>0</td>\n",
       "      <td>5</td>\n",
       "      <td>1.0000</td>\n",
       "      <td>directed</td>\n",
       "    </tr>\n",
       "    <tr>\n",
       "      <th>...</th>\n",
       "      <td>...</td>\n",
       "      <td>...</td>\n",
       "      <td>...</td>\n",
       "      <td>...</td>\n",
       "    </tr>\n",
       "    <tr>\n",
       "      <th>88229</th>\n",
       "      <td>4024</td>\n",
       "      <td>4038</td>\n",
       "      <td>0.1111</td>\n",
       "      <td>directed</td>\n",
       "    </tr>\n",
       "    <tr>\n",
       "      <th>88230</th>\n",
       "      <td>4027</td>\n",
       "      <td>4031</td>\n",
       "      <td>0.0526</td>\n",
       "      <td>directed</td>\n",
       "    </tr>\n",
       "    <tr>\n",
       "      <th>88231</th>\n",
       "      <td>4028</td>\n",
       "      <td>1830</td>\n",
       "      <td>0.1000</td>\n",
       "      <td>directed</td>\n",
       "    </tr>\n",
       "    <tr>\n",
       "      <th>88232</th>\n",
       "      <td>4028</td>\n",
       "      <td>4032</td>\n",
       "      <td>0.5000</td>\n",
       "      <td>directed</td>\n",
       "    </tr>\n",
       "    <tr>\n",
       "      <th>88233</th>\n",
       "      <td>4028</td>\n",
       "      <td>4038</td>\n",
       "      <td>0.1111</td>\n",
       "      <td>directed</td>\n",
       "    </tr>\n",
       "  </tbody>\n",
       "</table>\n",
       "<p>88234 rows × 4 columns</p>\n",
       "</div>"
      ],
      "text/plain": [
       "       source  target  weight      type\n",
       "0           0       1  1.0000  directed\n",
       "1           0       2  1.0000  directed\n",
       "2           0       3  1.0000  directed\n",
       "3           0       4  1.0000  directed\n",
       "4           0       5  1.0000  directed\n",
       "...       ...     ...     ...       ...\n",
       "88229    4024    4038  0.1111  directed\n",
       "88230    4027    4031  0.0526  directed\n",
       "88231    4028    1830  0.1000  directed\n",
       "88232    4028    4032  0.5000  directed\n",
       "88233    4028    4038  0.1111  directed\n",
       "\n",
       "[88234 rows x 4 columns]"
      ]
     },
     "execution_count": 42,
     "metadata": {},
     "output_type": "execute_result"
    }
   ],
   "source": [
    "after_edges"
   ]
  },
  {
   "cell_type": "markdown",
   "metadata": {},
   "source": [
    "### 7. 导出 `.csv` 文件，并导入Gephi处理"
   ]
  },
  {
   "cell_type": "markdown",
   "metadata": {},
   "source": [
    "#### 导出数据表"
   ]
  },
  {
   "cell_type": "code",
   "execution_count": 43,
   "metadata": {},
   "outputs": [],
   "source": [
    "begin_nodes.to_csv(\"./begin_nodes.csv\", index=False)\n",
    "begin_edges.to_csv(\"./begin_edges.csv\", index=False)\n",
    "\n",
    "after_nodes.to_csv(\"./after_nodes.csv\", index=False)\n",
    "after_edges.to_csv(\"./after_edges.csv\", index=False)"
   ]
  },
  {
   "cell_type": "markdown",
   "metadata": {},
   "source": [
    "#### 数据可视化"
   ]
  },
  {
   "cell_type": "markdown",
   "metadata": {},
   "source": [
    "* 被阻塞前\n",
    "\n",
    "  ![begin](./begin.png)\n",
    "\n",
    "* 被阻塞后\n",
    "\n",
    "  ![after](./after.png)"
   ]
  },
  {
   "cell_type": "markdown",
   "metadata": {},
   "source": [
    "## 实验总结\n",
    "\n",
    "### 为什么使用python？\n",
    "\n",
    "想要细化实验的步骤，使用解释型语言，搭配Jupyter Notebook，将每一个步骤拆分成一个单独的函数，并输出该步骤的结果，能更灵活地研究每一步变量的输入和输出对实验整体的影响。\n",
    "\n",
    "### 使用python的局限\n",
    "\n",
    "非常慢！可能也是算法设计的问题，寻找50个最佳的阻塞点（且模拟次数仅为10次），耗时210分钟。\n",
    "\n",
    "使用python的局限，也是整个实验的局限。只能寻找少量的点，否则耗时将会爆表。\n",
    "\n",
    "### 还有一些踩过的坑\n",
    "\n",
    "1. 计算阻塞后的传播期望，本想直接在图中阻塞点（把该点的传播概率定义为0）以后，直接计算该图的期望，但是复现的结果总是偏大。发现论文的阻塞，是将该点出和入的传播路径都阻塞（即完全不计算该点）；而我的阻塞，是将出的路径设为0，但是计算期望时，依然还会将入的传播概率纳入计算范围。\n",
    "2. 计算每个点的激活概率，本来设想是通过计算种子到该点的所有路径，并将其所有路径可通达的概率合计出A点到B点的概率。但是，写到后面，突然发现种子顶点不止一个，最后还是用了模拟的方式。\n",
    "\n",
    "### 未来改进\n",
    "\n",
    "* 算法角度：寻找阻塞点，目前只采用贪心算法，考虑未来改进使用支配树算法；\n",
    "* 工具角度：部分算法代码使用C++重构；\n",
    "* 运算角度：改进运行调度，使用多进程，并行计算；\n",
    "* 硬件角度：考虑租用云服务器，用更高性能的计算机计算。\n",
    "\n",
    "### 有待探索\n",
    "\n",
    "阻塞点的数量和其边际成本的关系，寻找阻塞效果与阻塞成本的平衡点。\n",
    "\n",
    "设计实验从阻塞50个点开始，每次递增50个，直至阻塞所有的点，计算出每一次的传播期望，并求出与初始未阻塞的比值。\n",
    "\n",
    "绘制图表，x轴为阻塞点数，y轴为控制传播比。"
   ]
  }
 ],
 "metadata": {
  "kernelspec": {
   "display_name": "Python 3 (ipykernel)",
   "language": "python",
   "name": "python3"
  },
  "language_info": {
   "codemirror_mode": {
    "name": "ipython",
    "version": 3
   },
   "file_extension": ".py",
   "mimetype": "text/x-python",
   "name": "python",
   "nbconvert_exporter": "python",
   "pygments_lexer": "ipython3",
   "version": "3.12.2"
  }
 },
 "nbformat": 4,
 "nbformat_minor": 4
}
